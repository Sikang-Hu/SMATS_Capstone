{
 "cells": [
  {
   "cell_type": "code",
   "execution_count": 1,
   "metadata": {},
   "outputs": [
    {
     "data": {
      "text/html": [
       "<div>\n",
       "<style>\n",
       "    .dataframe thead tr:only-child th {\n",
       "        text-align: right;\n",
       "    }\n",
       "\n",
       "    .dataframe thead th {\n",
       "        text-align: left;\n",
       "    }\n",
       "\n",
       "    .dataframe tbody tr th {\n",
       "        vertical-align: top;\n",
       "    }\n",
       "</style>\n",
       "<table border=\"1\" class=\"dataframe\">\n",
       "  <thead>\n",
       "    <tr style=\"text-align: right;\">\n",
       "      <th></th>\n",
       "      <th>timestep_time</th>\n",
       "      <th>vehicle_id</th>\n",
       "      <th>vehicle_x</th>\n",
       "      <th>vehicle_y</th>\n",
       "    </tr>\n",
       "  </thead>\n",
       "  <tbody>\n",
       "    <tr>\n",
       "      <th>1</th>\n",
       "      <td>1</td>\n",
       "      <td>1089</td>\n",
       "      <td>1204.95</td>\n",
       "      <td>5.10</td>\n",
       "    </tr>\n",
       "    <tr>\n",
       "      <th>2</th>\n",
       "      <td>1</td>\n",
       "      <td>59</td>\n",
       "      <td>398.35</td>\n",
       "      <td>384.88</td>\n",
       "    </tr>\n",
       "    <tr>\n",
       "      <th>3</th>\n",
       "      <td>2</td>\n",
       "      <td>1089</td>\n",
       "      <td>1201.65</td>\n",
       "      <td>15.35</td>\n",
       "    </tr>\n",
       "    <tr>\n",
       "      <th>4</th>\n",
       "      <td>2</td>\n",
       "      <td>522</td>\n",
       "      <td>1595.05</td>\n",
       "      <td>394.90</td>\n",
       "    </tr>\n",
       "    <tr>\n",
       "      <th>5</th>\n",
       "      <td>2</td>\n",
       "      <td>59</td>\n",
       "      <td>398.35</td>\n",
       "      <td>373.76</td>\n",
       "    </tr>\n",
       "    <tr>\n",
       "      <th>6</th>\n",
       "      <td>3</td>\n",
       "      <td>1089</td>\n",
       "      <td>1201.65</td>\n",
       "      <td>25.77</td>\n",
       "    </tr>\n",
       "    <tr>\n",
       "      <th>7</th>\n",
       "      <td>3</td>\n",
       "      <td>522</td>\n",
       "      <td>1595.05</td>\n",
       "      <td>384.36</td>\n",
       "    </tr>\n",
       "    <tr>\n",
       "      <th>8</th>\n",
       "      <td>3</td>\n",
       "      <td>59</td>\n",
       "      <td>398.35</td>\n",
       "      <td>362.63</td>\n",
       "    </tr>\n",
       "    <tr>\n",
       "      <th>9</th>\n",
       "      <td>4</td>\n",
       "      <td>1089</td>\n",
       "      <td>1201.65</td>\n",
       "      <td>36.63</td>\n",
       "    </tr>\n",
       "  </tbody>\n",
       "</table>\n",
       "</div>"
      ],
      "text/plain": [
       "   timestep_time  vehicle_id  vehicle_x  vehicle_y\n",
       "1              1        1089    1204.95       5.10\n",
       "2              1          59     398.35     384.88\n",
       "3              2        1089    1201.65      15.35\n",
       "4              2         522    1595.05     394.90\n",
       "5              2          59     398.35     373.76\n",
       "6              3        1089    1201.65      25.77\n",
       "7              3         522    1595.05     384.36\n",
       "8              3          59     398.35     362.63\n",
       "9              4        1089    1201.65      36.63"
      ]
     },
     "execution_count": 1,
     "metadata": {},
     "output_type": "execute_result"
    }
   ],
   "source": [
    "import pandas as pd\n",
    "import numpy as np\n",
    "\n",
    "df = pd.read_csv(\"quickstartod1.csv\",sep=\",\");\n",
    "df1 = df[['timestep_time', 'vehicle_id', 'vehicle_x', 'vehicle_y']];\n",
    "\n",
    "df1[1:10]"
   ]
  },
  {
   "cell_type": "code",
   "execution_count": 2,
   "metadata": {
    "collapsed": true
   },
   "outputs": [],
   "source": [
    "def sample(x, y, x0, y0, r):\n",
    "    return (x-x0)**2+(y-y0)**2 <= r**2;"
   ]
  },
  {
   "cell_type": "code",
   "execution_count": 7,
   "metadata": {
    "collapsed": true
   },
   "outputs": [],
   "source": [
    "sensor1 = [];\n",
    "sensor1.append([406.55, 190.00]);\n",
    "dis = 200.00\n",
    "for i in range(1,8):\n",
    "    sensor1.append([sensor1[i-1][0]+dis, sensor1[i-1][1]]);\n",
    "sensor2 = [];\n",
    "sensor2.append([393.45, 210.00]);\n",
    "for i in range(1,8):\n",
    "    sensor2.append([sensor2[i-1][0]+dis, sensor2[i-1][1]]);\n"
   ]
  },
  {
   "cell_type": "code",
   "execution_count": 8,
   "metadata": {},
   "outputs": [
    {
     "name": "stdout",
     "output_type": "stream",
     "text": [
      "   timestep_time  vehicle_id  vehicle_x  vehicle_y  0toRight  1toRight  \\\n",
      "1              1        1089    1204.95       5.10         0         0   \n",
      "2              1          59     398.35     384.88         0         0   \n",
      "3              2        1089    1201.65      15.35         0         0   \n",
      "4              2         522    1595.05     394.90         0         0   \n",
      "5              2          59     398.35     373.76         0         0   \n",
      "6              3        1089    1201.65      25.77         0         0   \n",
      "7              3         522    1595.05     384.36         0         0   \n",
      "8              3          59     398.35     362.63         0         0   \n",
      "9              4        1089    1201.65      36.63         0         0   \n",
      "\n",
      "   2toRight  3toRight  4toRight  5toRight  6toRight  7toRight  0toLeft  \\\n",
      "1         0         0         0         0         0         0        0   \n",
      "2         0         0         0         0         0         0        0   \n",
      "3         0         0         0         0         0         0        0   \n",
      "4         0         0         0         0         0         0        0   \n",
      "5         0         0         0         0         0         0        0   \n",
      "6         0         0         0         0         0         0        0   \n",
      "7         0         0         0         0         0         0        0   \n",
      "8         0         0         0         0         0         0        0   \n",
      "9         0         0         0         0         0         0        0   \n",
      "\n",
      "   1toLeft  2toLeft  3toLeft  4toLeft  5toLeft  6toLeft  7toLeft  \n",
      "1        0        0        0        0        0        0        0  \n",
      "2        0        0        0        0        0        0        0  \n",
      "3        0        0        0        0        0        0        0  \n",
      "4        0        0        0        0        0        0        0  \n",
      "5        0        0        0        0        0        0        0  \n",
      "6        0        0        0        0        0        0        0  \n",
      "7        0        0        0        0        0        0        0  \n",
      "8        0        0        0        0        0        0        0  \n",
      "9        0        0        0        0        0        0        0  \n"
     ]
    }
   ],
   "source": [
    "for i in range(8):\n",
    "    df1[`i`+\"toRight\"] = sample(df1['vehicle_x'], df1['vehicle_y'], sensor1[i][0], sensor1[i][1], 10.00).astype(int);\n",
    "for i in range(8):\n",
    "    df1[`i`+\"toLeft\"] = sample(df1['vehicle_x'], df1['vehicle_y'], sensor2[i][0], sensor2[i][1], 10.00).astype(int);\n",
    "\n",
    "print df1[1:10]"
   ]
  },
  {
   "cell_type": "code",
   "execution_count": 9,
   "metadata": {
    "collapsed": true
   },
   "outputs": [],
   "source": [
    "df1.sort_values(by=['vehicle_id', 'timestep_time'], ascending=True)\n",
    "sd = [];\n",
    "for i in range(8):\n",
    "    sd.append(df1.loc[df1[`i`+'toRight'] == 1])\n",
    "    sd[i] = sd[i][['timestep_time', 'vehicle_id']]\n",
    "for i in range(8):\n",
    "    sd.append(df1.loc[df1[`i`+'toLeft'] == 1])\n",
    "    sd[i] = sd[i][['timestep_time', 'vehicle_id']]"
   ]
  },
  {
   "cell_type": "code",
   "execution_count": 106,
   "metadata": {
    "collapsed": true
   },
   "outputs": [],
   "source": [
    "for i in range(16):\n",
    "    path = '/Users/Murrie_/Desktop/Artery_With_OD/sensor'+ `i`;\n",
    "    sd[i].to_csv(path_or_buf = path);"
   ]
  },
  {
   "cell_type": "code",
   "execution_count": null,
   "metadata": {
    "collapsed": true
   },
   "outputs": [],
   "source": []
  }
 ],
 "metadata": {
  "kernelspec": {
   "display_name": "Python 2",
   "language": "python",
   "name": "python2"
  },
  "language_info": {
   "codemirror_mode": {
    "name": "ipython",
    "version": 2
   },
   "file_extension": ".py",
   "mimetype": "text/x-python",
   "name": "python",
   "nbconvert_exporter": "python",
   "pygments_lexer": "ipython2",
   "version": "2.7.14"
  }
 },
 "nbformat": 4,
 "nbformat_minor": 2
}
