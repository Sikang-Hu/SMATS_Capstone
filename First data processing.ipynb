{
 "cells": [
  {
   "cell_type": "markdown",
   "metadata": {},
   "source": [
    "# Imports"
   ]
  },
  {
   "cell_type": "code",
   "execution_count": 95,
   "metadata": {
    "collapsed": true
   },
   "outputs": [],
   "source": [
    "import pandas as pd\n",
    "import matplotlib.pyplot as plt\n",
    "%matplotlib inline"
   ]
  },
  {
   "cell_type": "markdown",
   "metadata": {},
   "source": [
    "# Load Data"
   ]
  },
  {
   "cell_type": "code",
   "execution_count": 136,
   "metadata": {},
   "outputs": [
    {
     "data": {
      "text/plain": [
       "Index(['MAC', ' Detection Type', ' RSSI', ' Detection Time'], dtype='object')"
      ]
     },
     "execution_count": 136,
     "metadata": {},
     "output_type": "execute_result"
    }
   ],
   "source": [
    "\"\"\"\n",
    "    Detection type\n",
    "        0: Bluetooth classic\n",
    "        1: Bluetooth low energy\n",
    "        2: Wifi\n",
    "    \n",
    "    RSSI: Signal strength\n",
    "    \n",
    "    Detection timestamp: Unix standard\n",
    "\"\"\"\n",
    "\n",
    "data_t1 = pd.read_csv('Data/Durant_2_Durant_street__2018-01-17_14_19_48[1]_t1.csv', \n",
    "                  skiprows=[0, 1, 2, 3, 4])\n",
    "data_t2 = pd.read_csv('Data/durant_bis_durant_2018-01-17_14_20_17[1]_t2.csv', \n",
    "                  skiprows=[0, 1, 2, 3, 4])\n",
    "data.columns"
   ]
  },
  {
   "cell_type": "markdown",
   "metadata": {},
   "source": [
    "# Identify pedestrians and home wifi"
   ]
  },
  {
   "cell_type": "code",
   "execution_count": 55,
   "metadata": {},
   "outputs": [
    {
     "name": "stdout",
     "output_type": "stream",
     "text": [
      "114 unique MAC addresses out of 1499\n"
     ]
    }
   ],
   "source": [
    "print(\"{} unique MAC addresses out of {}\".format(len(data_t1.MAC.unique()), len(data_t1.MAC)))"
   ]
  },
  {
   "cell_type": "code",
   "execution_count": 56,
   "metadata": {},
   "outputs": [
    {
     "name": "stdout",
     "output_type": "stream",
     "text": [
      "121 unique MAC addresses out of 1433\n"
     ]
    }
   ],
   "source": [
    "print(\"{} unique MAC addresses out of {}\".format(len(data_t2.MAC.unique()), len(data_t2.MAC)))"
   ]
  },
  {
   "cell_type": "code",
   "execution_count": 96,
   "metadata": {
    "scrolled": false
   },
   "outputs": [
    {
     "data": {
      "text/plain": [
       "<matplotlib.axes._subplots.AxesSubplot at 0x11890fcc0>"
      ]
     },
     "execution_count": 96,
     "metadata": {},
     "output_type": "execute_result"
    },
    {
     "data": {
      "image/png": "[encoded data removed]",
      "text/plain": [
       "<matplotlib.figure.Figure at 0x115aa1588>"
      ]
     },
     "metadata": {},
     "output_type": "display_data"
    }
   ],
   "source": [
    "max_nb_detections = data_t1.groupby('MAC')[' Detection Time'].count().max()\n",
    "\n",
    "data_t1.groupby('MAC')[' Detection Time'].count().hist(bins=max_nb_detections)"
   ]
  },
  {
   "cell_type": "code",
   "execution_count": 58,
   "metadata": {
    "collapsed": true
   },
   "outputs": [
    {
     "name": "stdout",
     "output_type": "stream",
     "text": [
      "31\n",
      "33\n",
      "13\n",
      "8\n",
      "27\n",
      "14\n",
      "7\n",
      "5\n",
      "6\n",
      "7\n",
      "53\n",
      "17\n",
      "38\n",
      "7\n"
     ]
    }
   ],
   "source": [
    "df = data_t1.groupby('MAC')[' Detection Time'].count()\n",
    "detected_multiple_times = df[df == 15].index[0]\n",
    "detected_times = list(data_t1[data_t1.MAC == detected_multiple_times][' Detection Time'])\n",
    "\n",
    "for i in range(len(detected_times) - 1):\n",
    "    print(detected_times[i + 1] - detected_times[i])"
   ]
  },
  {
   "cell_type": "markdown",
   "metadata": {},
   "source": [
    "# Join the two files"
   ]
  },
  {
   "cell_type": "code",
   "execution_count": 65,
   "metadata": {},
   "outputs": [
    {
     "data": {
      "text/plain": [
       "46"
      ]
     },
     "execution_count": 65,
     "metadata": {},
     "output_type": "execute_result"
    }
   ],
   "source": [
    "MAC_intersection = [x for x in set(data_t1['MAC']) if x in set(data_t2['MAC'])]\n",
    "len(MAC_intersection)"
   ]
  },
  {
   "cell_type": "code",
   "execution_count": 97,
   "metadata": {
    "scrolled": true
   },
   "outputs": [
    {
     "data": {
      "text/plain": [
       "<matplotlib.axes._subplots.AxesSubplot at 0x11896c3c8>"
      ]
     },
     "execution_count": 97,
     "metadata": {},
     "output_type": "execute_result"
    },
    {
     "data": {
      "image/png": "[encoded data removed]",
      "text/plain": [
       "<matplotlib.figure.Figure at 0x118b93080>"
      ]
     },
     "metadata": {},
     "output_type": "display_data"
    }
   ],
   "source": [
    "df = data_t1[data_t1.MAC.isin(MAC_intersection)]\n",
    "\n",
    "max_nb_detections = df.groupby('MAC')[' Detection Time'].count().max()\n",
    "\n",
    "df.groupby('MAC')[' Detection Time'].count().hist(bins=max_nb_detections)"
   ]
  },
  {
   "cell_type": "code",
   "execution_count": 100,
   "metadata": {
    "scrolled": true
   },
   "outputs": [],
   "source": [
    "first_detection_t1 = data_t1[data_t1.MAC.isin(MAC_intersection)][['MAC', ' Detection Time']]\n",
    "first_detection_t1 = first_detection_t1.groupby('MAC').min()\n",
    "\n",
    "first_detection_t2 = data_t2[data_t2.MAC.isin(MAC_intersection)][['MAC', ' Detection Time']]\n",
    "first_detection_t2 = first_detection_t2.groupby('MAC').min()"
   ]
  },
  {
   "cell_type": "code",
   "execution_count": 101,
   "metadata": {
    "scrolled": true
   },
   "outputs": [
    {
     "data": {
      "text/html": [
       "<div>\n",
       "<style scoped>\n",
       "    .dataframe tbody tr th:only-of-type {\n",
       "        vertical-align: middle;\n",
       "    }\n",
       "\n",
       "    .dataframe tbody tr th {\n",
       "        vertical-align: top;\n",
       "    }\n",
       "\n",
       "    .dataframe thead th {\n",
       "        text-align: right;\n",
       "    }\n",
       "</style>\n",
       "<table border=\"1\" class=\"dataframe\">\n",
       "  <thead>\n",
       "    <tr style=\"text-align: right;\">\n",
       "      <th></th>\n",
       "      <th>Detection Time_t1</th>\n",
       "      <th>Detection Time_t2</th>\n",
       "      <th>travel_time</th>\n",
       "    </tr>\n",
       "    <tr>\n",
       "      <th>MAC</th>\n",
       "      <th></th>\n",
       "      <th></th>\n",
       "      <th></th>\n",
       "    </tr>\n",
       "  </thead>\n",
       "  <tbody>\n",
       "    <tr>\n",
       "      <th>10f1f2874fff</th>\n",
       "      <td>1516227844</td>\n",
       "      <td>1516227867</td>\n",
       "      <td>23</td>\n",
       "    </tr>\n",
       "    <tr>\n",
       "      <th>2c3033f18d5e</th>\n",
       "      <td>1516227591</td>\n",
       "      <td>1516227623</td>\n",
       "      <td>32</td>\n",
       "    </tr>\n",
       "    <tr>\n",
       "      <th>30e17145fb7f</th>\n",
       "      <td>1516227856</td>\n",
       "      <td>1516227618</td>\n",
       "      <td>-238</td>\n",
       "    </tr>\n",
       "    <tr>\n",
       "      <th>382dd15b7fc9</th>\n",
       "      <td>1516227801</td>\n",
       "      <td>1516227883</td>\n",
       "      <td>82</td>\n",
       "    </tr>\n",
       "    <tr>\n",
       "      <th>448e6fb6e9c1</th>\n",
       "      <td>1516227780</td>\n",
       "      <td>1516227803</td>\n",
       "      <td>23</td>\n",
       "    </tr>\n",
       "    <tr>\n",
       "      <th>49c573b3dc27</th>\n",
       "      <td>1516227622</td>\n",
       "      <td>1516227649</td>\n",
       "      <td>27</td>\n",
       "    </tr>\n",
       "    <tr>\n",
       "      <th>506a03afa352</th>\n",
       "      <td>1516227588</td>\n",
       "      <td>1516227654</td>\n",
       "      <td>66</td>\n",
       "    </tr>\n",
       "    <tr>\n",
       "      <th>54bef7a7a112</th>\n",
       "      <td>1516227732</td>\n",
       "      <td>1516227741</td>\n",
       "      <td>9</td>\n",
       "    </tr>\n",
       "    <tr>\n",
       "      <th>55985b78600e</th>\n",
       "      <td>1516227625</td>\n",
       "      <td>1516227734</td>\n",
       "      <td>109</td>\n",
       "    </tr>\n",
       "    <tr>\n",
       "      <th>60a44c6b7328</th>\n",
       "      <td>1516227590</td>\n",
       "      <td>1516227719</td>\n",
       "      <td>129</td>\n",
       "    </tr>\n",
       "    <tr>\n",
       "      <th>60eaf223cd60</th>\n",
       "      <td>1516227759</td>\n",
       "      <td>1516227737</td>\n",
       "      <td>-22</td>\n",
       "    </tr>\n",
       "    <tr>\n",
       "      <th>756f40f6c106</th>\n",
       "      <td>1516227656</td>\n",
       "      <td>1516227702</td>\n",
       "      <td>46</td>\n",
       "    </tr>\n",
       "    <tr>\n",
       "      <th>784f43950676</th>\n",
       "      <td>1516227596</td>\n",
       "      <td>1516227628</td>\n",
       "      <td>32</td>\n",
       "    </tr>\n",
       "    <tr>\n",
       "      <th>84002d4ba488</th>\n",
       "      <td>1516227590</td>\n",
       "      <td>1516227619</td>\n",
       "      <td>29</td>\n",
       "    </tr>\n",
       "    <tr>\n",
       "      <th>84002ddca118</th>\n",
       "      <td>1516227591</td>\n",
       "      <td>1516227680</td>\n",
       "      <td>89</td>\n",
       "    </tr>\n",
       "    <tr>\n",
       "      <th>84002ddca11a</th>\n",
       "      <td>1516227591</td>\n",
       "      <td>1516227659</td>\n",
       "      <td>68</td>\n",
       "    </tr>\n",
       "    <tr>\n",
       "      <th>84002ddca11d</th>\n",
       "      <td>1516227590</td>\n",
       "      <td>1516227673</td>\n",
       "      <td>83</td>\n",
       "    </tr>\n",
       "    <tr>\n",
       "      <th>84002ddca11e</th>\n",
       "      <td>1516227592</td>\n",
       "      <td>1516227674</td>\n",
       "      <td>82</td>\n",
       "    </tr>\n",
       "    <tr>\n",
       "      <th>8c0f6f28bc60</th>\n",
       "      <td>1516227588</td>\n",
       "      <td>1516227619</td>\n",
       "      <td>31</td>\n",
       "    </tr>\n",
       "    <tr>\n",
       "      <th>8c0f6f28bc62</th>\n",
       "      <td>1516227590</td>\n",
       "      <td>1516227617</td>\n",
       "      <td>27</td>\n",
       "    </tr>\n",
       "    <tr>\n",
       "      <th>8c0f6f28bc63</th>\n",
       "      <td>1516227588</td>\n",
       "      <td>1516227618</td>\n",
       "      <td>30</td>\n",
       "    </tr>\n",
       "    <tr>\n",
       "      <th>8c0f6f3a89d8</th>\n",
       "      <td>1516227598</td>\n",
       "      <td>1516227619</td>\n",
       "      <td>21</td>\n",
       "    </tr>\n",
       "    <tr>\n",
       "      <th>8c0f6f3a89db</th>\n",
       "      <td>1516227591</td>\n",
       "      <td>1516227617</td>\n",
       "      <td>26</td>\n",
       "    </tr>\n",
       "    <tr>\n",
       "      <th>8c0f6f3a89dd</th>\n",
       "      <td>1516227599</td>\n",
       "      <td>1516227619</td>\n",
       "      <td>20</td>\n",
       "    </tr>\n",
       "    <tr>\n",
       "      <th>8c0f6f3a89de</th>\n",
       "      <td>1516227590</td>\n",
       "      <td>1516227619</td>\n",
       "      <td>29</td>\n",
       "    </tr>\n",
       "    <tr>\n",
       "      <th>8c0f6f46a5e8</th>\n",
       "      <td>1516227619</td>\n",
       "      <td>1516227631</td>\n",
       "      <td>12</td>\n",
       "    </tr>\n",
       "    <tr>\n",
       "      <th>8c0f6f46a5ea</th>\n",
       "      <td>1516227592</td>\n",
       "      <td>1516227619</td>\n",
       "      <td>27</td>\n",
       "    </tr>\n",
       "    <tr>\n",
       "      <th>8c0f6f46a5eb</th>\n",
       "      <td>1516227622</td>\n",
       "      <td>1516227617</td>\n",
       "      <td>-5</td>\n",
       "    </tr>\n",
       "    <tr>\n",
       "      <th>8c0f6f46a5ed</th>\n",
       "      <td>1516227590</td>\n",
       "      <td>1516227619</td>\n",
       "      <td>29</td>\n",
       "    </tr>\n",
       "    <tr>\n",
       "      <th>8c0f6f46a5ee</th>\n",
       "      <td>1516227593</td>\n",
       "      <td>1516227624</td>\n",
       "      <td>31</td>\n",
       "    </tr>\n",
       "    <tr>\n",
       "      <th>8c0f6f97d038</th>\n",
       "      <td>1516227675</td>\n",
       "      <td>1516227619</td>\n",
       "      <td>-56</td>\n",
       "    </tr>\n",
       "    <tr>\n",
       "      <th>8c0f6f97d03a</th>\n",
       "      <td>1516227619</td>\n",
       "      <td>1516227619</td>\n",
       "      <td>0</td>\n",
       "    </tr>\n",
       "    <tr>\n",
       "      <th>8c0f6f97d03b</th>\n",
       "      <td>1516227619</td>\n",
       "      <td>1516227619</td>\n",
       "      <td>0</td>\n",
       "    </tr>\n",
       "    <tr>\n",
       "      <th>8c0f6fa5fbd8</th>\n",
       "      <td>1516227590</td>\n",
       "      <td>1516227618</td>\n",
       "      <td>28</td>\n",
       "    </tr>\n",
       "    <tr>\n",
       "      <th>8c0f6fa5fbda</th>\n",
       "      <td>1516227593</td>\n",
       "      <td>1516227617</td>\n",
       "      <td>24</td>\n",
       "    </tr>\n",
       "    <tr>\n",
       "      <th>8c0f6fa5fbdb</th>\n",
       "      <td>1516227593</td>\n",
       "      <td>1516227619</td>\n",
       "      <td>26</td>\n",
       "    </tr>\n",
       "    <tr>\n",
       "      <th>8c0f6fa5fbdd</th>\n",
       "      <td>1516227593</td>\n",
       "      <td>1516227618</td>\n",
       "      <td>25</td>\n",
       "    </tr>\n",
       "    <tr>\n",
       "      <th>8c0f6fa5fbde</th>\n",
       "      <td>1516227614</td>\n",
       "      <td>1516227619</td>\n",
       "      <td>5</td>\n",
       "    </tr>\n",
       "    <tr>\n",
       "      <th>8c0f6fbb5078</th>\n",
       "      <td>1516227591</td>\n",
       "      <td>1516227654</td>\n",
       "      <td>63</td>\n",
       "    </tr>\n",
       "    <tr>\n",
       "      <th>8c0f6fbb507a</th>\n",
       "      <td>1516227590</td>\n",
       "      <td>1516227621</td>\n",
       "      <td>31</td>\n",
       "    </tr>\n",
       "    <tr>\n",
       "      <th>8c0f6fbb507b</th>\n",
       "      <td>1516227590</td>\n",
       "      <td>1516227620</td>\n",
       "      <td>30</td>\n",
       "    </tr>\n",
       "    <tr>\n",
       "      <th>ac5f3e74851e</th>\n",
       "      <td>1516227671</td>\n",
       "      <td>1516227661</td>\n",
       "      <td>-10</td>\n",
       "    </tr>\n",
       "    <tr>\n",
       "      <th>d039b327f1a0</th>\n",
       "      <td>1516227589</td>\n",
       "      <td>1516227619</td>\n",
       "      <td>30</td>\n",
       "    </tr>\n",
       "    <tr>\n",
       "      <th>dc74a8bbb19b</th>\n",
       "      <td>1516227695</td>\n",
       "      <td>1516227725</td>\n",
       "      <td>30</td>\n",
       "    </tr>\n",
       "    <tr>\n",
       "      <th>f45c89c03d3b</th>\n",
       "      <td>1516227592</td>\n",
       "      <td>1516227620</td>\n",
       "      <td>28</td>\n",
       "    </tr>\n",
       "    <tr>\n",
       "      <th>f862142ee5a8</th>\n",
       "      <td>1516227676</td>\n",
       "      <td>1516227651</td>\n",
       "      <td>-25</td>\n",
       "    </tr>\n",
       "  </tbody>\n",
       "</table>\n",
       "</div>"
      ],
      "text/plain": [
       "               Detection Time_t1   Detection Time_t2  travel_time\n",
       "MAC                                                              \n",
       "10f1f2874fff          1516227844          1516227867           23\n",
       "2c3033f18d5e          1516227591          1516227623           32\n",
       "30e17145fb7f          1516227856          1516227618         -238\n",
       "382dd15b7fc9          1516227801          1516227883           82\n",
       "448e6fb6e9c1          1516227780          1516227803           23\n",
       "49c573b3dc27          1516227622          1516227649           27\n",
       "506a03afa352          1516227588          1516227654           66\n",
       "54bef7a7a112          1516227732          1516227741            9\n",
       "55985b78600e          1516227625          1516227734          109\n",
       "60a44c6b7328          1516227590          1516227719          129\n",
       "60eaf223cd60          1516227759          1516227737          -22\n",
       "756f40f6c106          1516227656          1516227702           46\n",
       "784f43950676          1516227596          1516227628           32\n",
       "84002d4ba488          1516227590          1516227619           29\n",
       "84002ddca118          1516227591          1516227680           89\n",
       "84002ddca11a          1516227591          1516227659           68\n",
       "84002ddca11d          1516227590          1516227673           83\n",
       "84002ddca11e          1516227592          1516227674           82\n",
       "8c0f6f28bc60          1516227588          1516227619           31\n",
       "8c0f6f28bc62          1516227590          1516227617           27\n",
       "8c0f6f28bc63          1516227588          1516227618           30\n",
       "8c0f6f3a89d8          1516227598          1516227619           21\n",
       "8c0f6f3a89db          1516227591          1516227617           26\n",
       "8c0f6f3a89dd          1516227599          1516227619           20\n",
       "8c0f6f3a89de          1516227590          1516227619           29\n",
       "8c0f6f46a5e8          1516227619          1516227631           12\n",
       "8c0f6f46a5ea          1516227592          1516227619           27\n",
       "8c0f6f46a5eb          1516227622          1516227617           -5\n",
       "8c0f6f46a5ed          1516227590          1516227619           29\n",
       "8c0f6f46a5ee          1516227593          1516227624           31\n",
       "8c0f6f97d038          1516227675          1516227619          -56\n",
       "8c0f6f97d03a          1516227619          1516227619            0\n",
       "8c0f6f97d03b          1516227619          1516227619            0\n",
       "8c0f6fa5fbd8          1516227590          1516227618           28\n",
       "8c0f6fa5fbda          1516227593          1516227617           24\n",
       "8c0f6fa5fbdb          1516227593          1516227619           26\n",
       "8c0f6fa5fbdd          1516227593          1516227618           25\n",
       "8c0f6fa5fbde          1516227614          1516227619            5\n",
       "8c0f6fbb5078          1516227591          1516227654           63\n",
       "8c0f6fbb507a          1516227590          1516227621           31\n",
       "8c0f6fbb507b          1516227590          1516227620           30\n",
       "ac5f3e74851e          1516227671          1516227661          -10\n",
       "d039b327f1a0          1516227589          1516227619           30\n",
       "dc74a8bbb19b          1516227695          1516227725           30\n",
       "f45c89c03d3b          1516227592          1516227620           28\n",
       "f862142ee5a8          1516227676          1516227651          -25"
      ]
     },
     "execution_count": 101,
     "metadata": {},
     "output_type": "execute_result"
    }
   ],
   "source": [
    "first_detections = first_detection_t1.join(first_detection_t2, lsuffix='_t1', rsuffix='_t2')\n",
    "first_detections['travel_time'] = first_detections[' Detection Time_t2'] - first_detections[' Detection Time_t1']\n",
    "first_detections"
   ]
  },
  {
   "cell_type": "code",
   "execution_count": 99,
   "metadata": {},
   "outputs": [
    {
     "data": {
      "text/plain": [
       "<matplotlib.axes._subplots.AxesSubplot at 0x118f056a0>"
      ]
     },
     "execution_count": 99,
     "metadata": {},
     "output_type": "execute_result"
    },
    {
     "data": {
      "image/png": "[encoded data removed]",
      "text/plain": [
       "<matplotlib.figure.Figure at 0x118f599b0>"
      ]
     },
     "metadata": {},
     "output_type": "display_data"
    }
   ],
   "source": [
    "first_detections['travel_time'].hist(bins=first_detections['travel_time'].max())"
   ]
  },
  {
   "cell_type": "markdown",
   "metadata": {},
   "source": [
    "Interpretation:\n",
    "- Negative values are pedestrians walking against the car flow\n",
    "    - Outlier at -250: one person who probably stopped on her way\n",
    "- Values at 0 are home wifis detected by both tablets (probably too close to each other)\n",
    "- Most cars must take around 20s to go from one tablet to the other (peak)\n",
    "- Values very close to 0 are surprising, especially the negative ones (signals going very fast against the car flow. Are they bikes? Noise?) "
   ]
  },
  {
   "cell_type": "markdown",
   "metadata": {},
   "source": [
    "# Speeds"
   ]
  },
  {
   "cell_type": "markdown",
   "metadata": {},
   "source": [
    "On Tuesday the two tablets were 28 meters from each other"
   ]
  },
  {
   "cell_type": "code",
   "execution_count": 110,
   "metadata": {
    "scrolled": false
   },
   "outputs": [
    {
     "name": "stderr",
     "output_type": "stream",
     "text": [
      "/Library/Frameworks/Python.framework/Versions/3.5/lib/python3.5/site-packages/ipykernel_launcher.py:3: SettingWithCopyWarning: \n",
      "A value is trying to be set on a copy of a slice from a DataFrame.\n",
      "Try using .loc[row_indexer,col_indexer] = value instead\n",
      "\n",
      "See the caveats in the documentation: http://pandas.pydata.org/pandas-docs/stable/indexing.html#indexing-view-versus-copy\n",
      "  This is separate from the ipykernel package so we can avoid doing imports until\n",
      "/Library/Frameworks/Python.framework/Versions/3.5/lib/python3.5/site-packages/ipykernel_launcher.py:6: SettingWithCopyWarning: \n",
      "A value is trying to be set on a copy of a slice from a DataFrame.\n",
      "Try using .loc[row_indexer,col_indexer] = value instead\n",
      "\n",
      "See the caveats in the documentation: http://pandas.pydata.org/pandas-docs/stable/indexing.html#indexing-view-versus-copy\n",
      "  \n"
     ]
    },
    {
     "data": {
      "text/plain": [
       "<matplotlib.axes._subplots.AxesSubplot at 0x119c0ff60>"
      ]
     },
     "execution_count": 110,
     "metadata": {},
     "output_type": "execute_result"
    },
    {
     "data": {
      "image/png": "[encoded data removed]",
      "text/plain": [
       "<matplotlib.figure.Figure at 0x1197342b0>"
      ]
     },
     "metadata": {},
     "output_type": "display_data"
    }
   ],
   "source": [
    "speeds = first_detections[first_detections['travel_time'] != 0]\n",
    "\n",
    "speeds['speed'] = 28 / speeds['travel_time']\n",
    "\n",
    "# Convert to km/h\n",
    "speeds['speed'] *= 3600 / 1000\n",
    "\n",
    "plt.title('Distribution of the speeds of the devices in km/h')\n",
    "speeds['speed'].hist(bins=50)"
   ]
  },
  {
   "cell_type": "markdown",
   "metadata": {},
   "source": [
    "# Signals detected by only one device"
   ]
  },
  {
   "cell_type": "code",
   "execution_count": 129,
   "metadata": {
    "collapsed": true,
    "scrolled": true
   },
   "outputs": [],
   "source": [
    "detection_t1_only = data_t1[~data_t1.MAC.isin(MAC_intersection)]\n",
    "detection_t1_only_unique = detection_t1_only[['MAC', ' Detection Time']].groupby('MAC').count()\n",
    "\n",
    "detection_t2_only = data_t2[~data_t2.MAC.isin(MAC_intersection)]\n",
    "detection_t2_only_unique = detection_t2_only[['MAC', ' Detection Time']].groupby('MAC').count()"
   ]
  },
  {
   "cell_type": "code",
   "execution_count": 120,
   "metadata": {},
   "outputs": [
    {
     "name": "stdout",
     "output_type": "stream",
     "text": [
      "68 signals were detected by the first tablet only out of 114\n",
      "75 signals were detected by the second tablet only out of 121\n"
     ]
    }
   ],
   "source": [
    "print(\"{} signals were detected by the first tablet only out of {}\".format(\n",
    "    len(detection_t1_only.MAC.unique()), len(data_t1.MAC.unique())))\n",
    "print(\"{} signals were detected by the second tablet only out of {}\".format(\n",
    "    len(detection_t2_only.MAC.unique()), len(data_t2.MAC.unique())))"
   ]
  },
  {
   "cell_type": "code",
   "execution_count": 135,
   "metadata": {},
   "outputs": [
    {
     "data": {
      "text/plain": [
       "array([[<matplotlib.axes._subplots.AxesSubplot object at 0x11a1a2ba8>]], dtype=object)"
      ]
     },
     "execution_count": 135,
     "metadata": {},
     "output_type": "execute_result"
    },
    {
     "data": {
      "image/png": "[encoded data removed]",
      "text/plain": [
       "<matplotlib.figure.Figure at 0x119d83128>"
      ]
     },
     "metadata": {},
     "output_type": "display_data"
    }
   ],
   "source": [
    "detection_t1_only_unique.hist(bins=detection_t1_only_unique[' Detection Time'].max())"
   ]
  },
  {
   "cell_type": "code",
   "execution_count": null,
   "metadata": {
    "collapsed": true
   },
   "outputs": [],
   "source": []
  }
 ],
 "metadata": {
  "kernelspec": {
   "display_name": "Python 3",
   "language": "python",
   "name": "python3"
  },
  "language_info": {
   "codemirror_mode": {
    "name": "ipython",
    "version": 3
   },
   "file_extension": ".py",
   "mimetype": "text/x-python",
   "name": "python",
   "nbconvert_exporter": "python",
   "pygments_lexer": "ipython3",
   "version": "3.5.0"
  }
 },
 "nbformat": 4,
 "nbformat_minor": 2
}
